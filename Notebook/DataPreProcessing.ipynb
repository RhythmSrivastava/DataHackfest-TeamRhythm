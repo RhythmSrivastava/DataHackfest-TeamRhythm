{
 "cells": [
  {
   "cell_type": "code",
   "execution_count": 14,
   "metadata": {},
   "outputs": [],
   "source": [
    "import pandas as pd "
   ]
  },
  {
   "cell_type": "code",
   "execution_count": 15,
   "metadata": {},
   "outputs": [
    {
     "name": "stdout",
     "output_type": "stream",
     "text": [
      "Current working directory: C:\\Users\\mailg\\OneDrive\\Documents\\GitHub\\DataHackfest-TeamRhythm\n",
      "Changed working directory: C:\\Users\\mailg\\OneDrive\\Documents\\GitHub\\DataHackfest-TeamRhythm\n"
     ]
    }
   ],
   "source": [
    "import os\n",
    "\n",
    "# Check current working directory\n",
    "print(\"Current working directory:\", os.getcwd())\n",
    "\n",
    "# Set the working directory\n",
    "os.chdir(r\"C:\\Users\\mailg\\OneDrive\\Documents\\GitHub\\DataHackfest-TeamRhythm\")\n",
    "print(\"Changed working directory:\", os.getcwd())"
   ]
  },
  {
   "cell_type": "code",
   "execution_count": 16,
   "metadata": {},
   "outputs": [],
   "source": [
    "df_model_apply_inputs = pd.read_csv(r\"C:\\Users\\mailg\\OneDrive\\Documents\\GitHub\\DataHackfest-TeamRhythm\\Cleaned Data\\model_apply_inputs\\final_master_data_sampled.csv\")"
   ]
  },
  {
   "cell_type": "code",
   "execution_count": 20,
   "metadata": {},
   "outputs": [],
   "source": [
    "df_actual_sequences = pd.read_csv(r\"Cleaned Data/model_build_inputs/actual_sequences_limited.csv\")\n",
    "df_invalid_sequences = pd.read_csv(r\"Cleaned Data/model_build_inputs/actual_sequences_limited.csv\")\n",
    "df_package_data = pd.read_csv(r\"Cleaned Data/model_build_inputs/actual_sequences_limited.csv\")\n",
    "df_route_data = pd.read_csv(r\"Cleaned Data/model_build_inputs/actual_sequences_limited.csv\")\n",
    "df_travel_times = pd.read_csv(r\"Cleaned Data/model_build_inputs/actual_sequences_limited.csv\")"
   ]
  },
  {
   "cell_type": "code",
   "execution_count": null,
   "metadata": {},
   "outputs": [],
   "source": []
  }
 ],
 "metadata": {
  "kernelspec": {
   "display_name": "Python 3 (ipykernel)",
   "language": "python",
   "name": "python3"
  },
  "language_info": {
   "codemirror_mode": {
    "name": "ipython",
    "version": 3
   },
   "file_extension": ".py",
   "mimetype": "text/x-python",
   "name": "python",
   "nbconvert_exporter": "python",
   "pygments_lexer": "ipython3",
   "version": "3.11.5"
  }
 },
 "nbformat": 4,
 "nbformat_minor": 2
}
